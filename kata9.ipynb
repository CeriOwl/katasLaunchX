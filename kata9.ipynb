{
 "cells": [
  {
   "cell_type": "markdown",
   "metadata": {},
   "source": [
    "# Kata 9"
   ]
  },
  {
   "cell_type": "markdown",
   "metadata": {},
   "source": [
    "## Ejercicio 1"
   ]
  },
  {
   "cell_type": "code",
   "execution_count": 12,
   "metadata": {},
   "outputs": [
    {
     "name": "stdout",
     "output_type": "stream",
     "text": [
      "\n",
      "    ----------Reporte----------\n",
      "    Primer tanque: 10%\n",
      "    Segundo tanque: 20%\n",
      "    Tercer tanque: 30%\n",
      "    Promedio total: 20.0%\n",
      "    \n"
     ]
    }
   ],
   "source": [
    "def promedioTanques(tanques):\n",
    "    return sum(tanques) / len(tanques)\n",
    "\n",
    "def reporteTanques(tanques):\n",
    "    return f\"\"\"\n",
    "    {\"-\"*10}Reporte{\"-\"*10}\n",
    "    Primer tanque: {tanques[0]}%\n",
    "    Segundo tanque: {tanques[1]}%\n",
    "    Tercer tanque: {tanques[2]}%\n",
    "    Promedio total: {promedioTanques(tanques)}%\n",
    "    \"\"\"\n",
    "print(reporteTanques([10,20,30]))"
   ]
  },
  {
   "cell_type": "markdown",
   "metadata": {},
   "source": [
    "## Ejercicio 2"
   ]
  },
  {
   "cell_type": "code",
   "execution_count": 35,
   "metadata": {},
   "outputs": [
    {
     "name": "stdout",
     "output_type": "stream",
     "text": [
      "\n",
      "    ----------Reporte----------\n",
      "    Destino: Saturno\n",
      "    Tiempo viajado: 35 minutos\n",
      "    Gasolina total: 80 galones\n",
      "    \n",
      "\n",
      "    ----------Reporte----------\n",
      "    Destino: Urano\n",
      "    Tiempo viajado: 44 minutos\n",
      "    Gasolina total: 53 galones\n",
      "    Tanque principal: 13 combustible sobrante.\n",
      "    Tanque interno: 40 combustible sobrante.\n",
      "    \n"
     ]
    }
   ],
   "source": [
    "def infoCohete(tiempoPrelanzamiento, tiempoVuelo, destino, tanqueExterno, tanqueInterno):\n",
    "    return f\"\"\"\n",
    "    {\"-\"*10}Reporte{\"-\"*10}\n",
    "    Destino: {destino}\n",
    "    Tiempo viajado: {tiempoPrelanzamiento + tiempoVuelo} minutos\n",
    "    Gasolina total: {tanqueExterno + tanqueInterno} galones\n",
    "    \"\"\"\n",
    "print(infoCohete(30, 5, \"Saturno\", 50, 30))\n",
    "\n",
    "def infoCoheteAdaptable(destino, *minutos, **tanques):\n",
    "    reporte = f\"\"\"\n",
    "    {\"-\"*10}Reporte{\"-\"*10}\n",
    "    Destino: {destino}\n",
    "    Tiempo viajado: {sum(minutos)} minutos\n",
    "    Gasolina total: {sum(tanques.values())} galones\n",
    "    \"\"\"\n",
    "    for nombre, galones in tanques.items():\n",
    "        reporte += f\"Tanque {nombre}: {galones} combustible sobrante.\\n    \"\n",
    "    return reporte\n",
    "print(infoCoheteAdaptable(\"Urano\", 13, 15, 16, principal=13, interno=40))"
   ]
  }
 ],
 "metadata": {
  "interpreter": {
   "hash": "22e2a665f18fbcab7beb4b148138d7cec558228181e74bff57e98962c36abf5e"
  },
  "kernelspec": {
   "display_name": "Python 3.10.2 64-bit",
   "language": "python",
   "name": "python3"
  },
  "language_info": {
   "codemirror_mode": {
    "name": "ipython",
    "version": 3
   },
   "file_extension": ".py",
   "mimetype": "text/x-python",
   "name": "python",
   "nbconvert_exporter": "python",
   "pygments_lexer": "ipython3",
   "version": "3.10.2"
  },
  "orig_nbformat": 4
 },
 "nbformat": 4,
 "nbformat_minor": 2
}
