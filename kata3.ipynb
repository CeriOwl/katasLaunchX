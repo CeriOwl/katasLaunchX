{
 "cells": [
  {
   "cell_type": "markdown",
   "metadata": {},
   "source": [
    "# Kata 3"
   ]
  },
  {
   "cell_type": "markdown",
   "metadata": {},
   "source": [
    "## Ejercicio 1"
   ]
  },
  {
   "cell_type": "code",
   "execution_count": 2,
   "metadata": {},
   "outputs": [
    {
     "name": "stdout",
     "output_type": "stream",
     "text": [
      "ALERTA. Un asteroide se esta acercando a la tierra!\n"
     ]
    }
   ],
   "source": [
    "velocidadAsteroide = 49\n",
    "if( velocidadAsteroide > 25 ):\n",
    "    print(\"ALERTA. Un asteroide se esta acercando a la tierra!\")\n",
    "else:\n",
    "    print(\"Todo esta bien\")"
   ]
  },
  {
   "cell_type": "markdown",
   "metadata": {},
   "source": [
    "## Ejercicio 2"
   ]
  },
  {
   "cell_type": "code",
   "execution_count": 3,
   "metadata": {},
   "outputs": [
    {
     "name": "stdout",
     "output_type": "stream",
     "text": [
      "No es posible ver nada.\n"
     ]
    }
   ],
   "source": [
    "velocidadAsteroide = 19\n",
    "if( velocidadAsteroide > 20 ):\n",
    "    print(\"Se puede ver el rayo de luz!!\")\n",
    "elif(velocidadAsteroide == 20):\n",
    "    print(\"Se puede ver el rayo de luz!!\")\n",
    "else:\n",
    "    print(\"No es posible ver nada.\")"
   ]
  },
  {
   "cell_type": "markdown",
   "metadata": {},
   "source": [
    "## Ejercicio 3"
   ]
  },
  {
   "cell_type": "code",
   "execution_count": 8,
   "metadata": {},
   "outputs": [
    {
     "name": "stdout",
     "output_type": "stream",
     "text": [
      "El asteroide podria golpear la tierra!\n"
     ]
    }
   ],
   "source": [
    "velocidadAsteroide = 26\n",
    "tamanioAsteroide = 30\n",
    "if(tamanioAsteroide > 25 and velocidadAsteroide > 25):\n",
    "    print(\"El asteroide podria golpear la tierra!\")\n",
    "elif(velocidadAsteroide >= 20):\n",
    "    print(\"Se puede ver el rayo de luz!!\")\n",
    "elif(tamanioAsteroide < 25):\n",
    "    print(\"El asteroide no nos puede hacer nada!\")\n",
    "else:\n",
    "    print(\"No es posible ver nada.\")"
   ]
  }
 ],
 "metadata": {
  "interpreter": {
   "hash": "22e2a665f18fbcab7beb4b148138d7cec558228181e74bff57e98962c36abf5e"
  },
  "kernelspec": {
   "display_name": "Python 3.10.2 64-bit",
   "language": "python",
   "name": "python3"
  },
  "language_info": {
   "codemirror_mode": {
    "name": "ipython",
    "version": 3
   },
   "file_extension": ".py",
   "mimetype": "text/x-python",
   "name": "python",
   "nbconvert_exporter": "python",
   "pygments_lexer": "ipython3",
   "version": "3.10.2"
  },
  "orig_nbformat": 4
 },
 "nbformat": 4,
 "nbformat_minor": 2
}
