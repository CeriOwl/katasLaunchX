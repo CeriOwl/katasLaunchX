{
 "cells": [
  {
   "cell_type": "markdown",
   "metadata": {},
   "source": [
    "# Kata 5"
   ]
  },
  {
   "cell_type": "markdown",
   "metadata": {},
   "source": [
    "## Ejercicio 1"
   ]
  },
  {
   "cell_type": "code",
   "execution_count": 5,
   "metadata": {},
   "outputs": [
    {
     "name": "stdout",
     "output_type": "stream",
     "text": [
      "Distancia en km: 628949330\n",
      "Distancia en millas: 390577534\n"
     ]
    }
   ],
   "source": [
    "tierra = 149597870\n",
    "jupiter = 778547200\n",
    "distancia = jupiter - tierra\n",
    "print(\"Distancia en km: \" + str(distancia))\n",
    "print(\"Distancia en millas: \" + str(round(distancia * 0.621)))"
   ]
  },
  {
   "cell_type": "markdown",
   "metadata": {},
   "source": [
    "## Ejercicio 2"
   ]
  },
  {
   "cell_type": "code",
   "execution_count": 7,
   "metadata": {},
   "outputs": [
    {
     "name": "stdout",
     "output_type": "stream",
     "text": [
      "Distancia en km: 50300000\n",
      "Distancia en millas: 31236300.0\n"
     ]
    }
   ],
   "source": [
    "planeta1 = int(input(\"Introduce la distancia del sol con respecto al primer planeta en km: \"))\n",
    "planeta2 = int(input(\"Introduce la distancia del sol con respecto segundo planeta en km: \"))\n",
    "distancia = planeta2 - planeta1\n",
    "distanciaMillas = distancia * 0.621\n",
    "print(\"Distancia en km: \" + str(distancia))\n",
    "print(\"Distancia en millas: \" + str(abs(distanciaMillas)))"
   ]
  }
 ],
 "metadata": {
  "interpreter": {
   "hash": "22e2a665f18fbcab7beb4b148138d7cec558228181e74bff57e98962c36abf5e"
  },
  "kernelspec": {
   "display_name": "Python 3.10.2 64-bit",
   "language": "python",
   "name": "python3"
  },
  "language_info": {
   "codemirror_mode": {
    "name": "ipython",
    "version": 3
   },
   "file_extension": ".py",
   "mimetype": "text/x-python",
   "name": "python",
   "nbconvert_exporter": "python",
   "pygments_lexer": "ipython3",
   "version": "3.10.2"
  },
  "orig_nbformat": 4
 },
 "nbformat": 4,
 "nbformat_minor": 2
}
