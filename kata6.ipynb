{
 "cells": [
  {
   "cell_type": "markdown",
   "metadata": {},
   "source": [
    "# Kata 6"
   ]
  },
  {
   "cell_type": "markdown",
   "metadata": {},
   "source": [
    "## Ejercicio 1"
   ]
  },
  {
   "cell_type": "code",
   "execution_count": 3,
   "metadata": {},
   "outputs": [
    {
     "name": "stdout",
     "output_type": "stream",
     "text": [
      "Num. planetas: 8\n",
      "Num. planetas: 9\n"
     ]
    }
   ],
   "source": [
    "planets = [\"Mercurio\", \"Venus\", \"Tierra\", \"Marte\", \"Jupiter\", \"Saturno\", \"Urano\", \"Nepturno\"]\n",
    "print(\"Num. planetas: \" + str(len(planets)))\n",
    "planets.append(\"Pluton\")\n",
    "print(\"Num. planetas: \" + str(len(planets)))"
   ]
  },
  {
   "cell_type": "markdown",
   "metadata": {},
   "source": [
    "## Ejercicio 2"
   ]
  },
  {
   "cell_type": "code",
   "execution_count": 9,
   "metadata": {},
   "outputs": [
    {
     "name": "stdout",
     "output_type": "stream",
     "text": [
      "\n",
      "Los planetas mas cercanos al sol desde: Mars\n",
      "['Mercury', 'Venus', 'Earth']\n",
      "\n",
      "\n",
      "Los planetas mas lejos del sol desde: Mars\n",
      "['Jupiter', 'Saturn', 'Neptune']\n",
      "\n"
     ]
    }
   ],
   "source": [
    "planets = ['Mercury', 'Venus', 'Earth', 'Mars', 'Jupiter', 'Saturn', 'Neptune']\n",
    "namePlanet = input(\"Ingrese el nombre de un planeta empezando por mayuscula: \")\n",
    "indexPlanet = planets.index(namePlanet)\n",
    "closeToSunPlanets = f\"\"\"\n",
    "Los planetas mas cercanos al sol desde: {namePlanet}\n",
    "{planets[0:indexPlanet]}\n",
    "\"\"\"\n",
    "\n",
    "farAwayToSunPlanets = f\"\"\"\n",
    "Los planetas mas lejos del sol desde: {namePlanet}\n",
    "{planets[indexPlanet+1:]}\n",
    "\"\"\"\n",
    "print(closeToSunPlanets)\n",
    "print(farAwayToSunPlanets)"
   ]
  }
 ],
 "metadata": {
  "interpreter": {
   "hash": "2bf232dbb1ac0cc4d7397bfe38b0e2d6eff281b1e3ff76effe9e8125cd2da534"
  },
  "kernelspec": {
   "display_name": "Python 3.10.2 ('env': venv)",
   "language": "python",
   "name": "python3"
  },
  "language_info": {
   "codemirror_mode": {
    "name": "ipython",
    "version": 3
   },
   "file_extension": ".py",
   "mimetype": "text/x-python",
   "name": "python",
   "nbconvert_exporter": "python",
   "pygments_lexer": "ipython3",
   "version": "3.10.2"
  },
  "orig_nbformat": 4
 },
 "nbformat": 4,
 "nbformat_minor": 2
}
