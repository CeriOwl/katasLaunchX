{
 "cells": [
  {
   "cell_type": "markdown",
   "metadata": {},
   "source": [
    "# Kata 4"
   ]
  },
  {
   "cell_type": "markdown",
   "metadata": {},
   "source": [
    "## Ejercicio 1"
   ]
  },
  {
   "cell_type": "code",
   "execution_count": 13,
   "metadata": {},
   "outputs": [
    {
     "name": "stdout",
     "output_type": "stream",
     "text": [
      "\n",
      "On average, the Moon moves 4cm away from the Earth every year\n",
      " The highest daylight temperature of the Moon is 127 Celsius\n"
     ]
    }
   ],
   "source": [
    "text = \"\"\"\n",
    "Interesting facts about the Moon. The Moon is Earth's only satellite. There are several interesting facts about the Moon and how it affects life here on Earth.\n",
    "On average, the Moon moves 4cm away from the Earth every year. This yearly drift is not significant enough to cause immediate effects on Earth. The highest daylight temperature of the Moon is 127 C.\n",
    "\"\"\"\n",
    "oraciones = text.split(\".\")\n",
    "average = \"average\"\n",
    "temperature = \"temperature\"\n",
    "distance = \"distance\"\n",
    "for i in oraciones:\n",
    "\n",
    "    if((average in i) or (temperature in i) or (distance in i)):\n",
    "        print(i.replace(\" C\", \" Celsius\"))"
   ]
  },
  {
   "cell_type": "markdown",
   "metadata": {},
   "source": [
    "## Ejercicio 2"
   ]
  },
  {
   "cell_type": "code",
   "execution_count": 32,
   "metadata": {},
   "outputs": [
    {
     "name": "stdout",
     "output_type": "stream",
     "text": [
      "\n",
      "The Gravity Of The Marte And The Ganimides\n",
      "--------------------------------------------------\n",
      "Planet Name: Marte\n",
      "Gravity: 1.4300000000000002 m/s2\n",
      "\n"
     ]
    }
   ],
   "source": [
    "# Old data\n",
    "name = \"Moon\"\n",
    "gravity = 0.00162\n",
    "planet = \"Earth\"\n",
    "\n",
    "title = f'The gravity of the {planet} and the {name}'\n",
    "\n",
    "data = f\"\"\"{\"-\"*50}\n",
    "Planet Name: {planet}\n",
    "Gravity: {gravity * 1000} m/s2\n",
    "\"\"\"\n",
    "# Old template\n",
    "template = f\"\"\"\n",
    "{title.title()}\n",
    "{data}\n",
    "\"\"\"\n",
    "\n",
    "# New adata\n",
    "planet = \"Marte\"\n",
    "gravity = 0.00143\n",
    "name = \"Ganimides\"\n",
    "\n",
    "# New template\n",
    "newTitle = f\"The gravity of the {planet} and the {name}\"\n",
    "newTemplate = f\"\"\"\n",
    "{newTitle.title()}\n",
    "{\"-\"*50}\n",
    "Planet Name: {planet}\n",
    "Gravity: {gravity*1000} m/s2\n",
    "\"\"\"\n",
    "print(newTemplate.format(planet = planet, name = name, gravity = gravity))"
   ]
  }
 ],
 "metadata": {
  "interpreter": {
   "hash": "22e2a665f18fbcab7beb4b148138d7cec558228181e74bff57e98962c36abf5e"
  },
  "kernelspec": {
   "display_name": "Python 3.10.2 64-bit",
   "language": "python",
   "name": "python3"
  },
  "language_info": {
   "codemirror_mode": {
    "name": "ipython",
    "version": 3
   },
   "file_extension": ".py",
   "mimetype": "text/x-python",
   "name": "python",
   "nbconvert_exporter": "python",
   "pygments_lexer": "ipython3",
   "version": "3.10.2"
  },
  "orig_nbformat": 4
 },
 "nbformat": 4,
 "nbformat_minor": 2
}
